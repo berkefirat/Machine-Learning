{
 "cells": [
  {
   "cell_type": "code",
   "execution_count": 2,
   "metadata": {},
   "outputs": [],
   "source": [
    "import numpy as np\n",
    "from numpy import linalg as lng\n"
   ]
  },
  {
   "cell_type": "code",
   "execution_count": 2,
   "metadata": {},
   "outputs": [],
   "source": [
    "#Representation of vectors\n",
    "\n",
    "vectorAsList = [1,2,3,4,5] #basic list\n",
    "\n",
    "vectorAsArray = np.array([1,2,3,4,5]) #as a numpy array\n",
    "\n",
    "rowVector = np.array([[1,2,3,4,5]])\n",
    "\n",
    "columnVector = np.array([[1],[2],[3],[4],[5]])\n",
    "\n",
    "\n",
    "#print(vectorAsList)\n",
    "#print(vectorAsArray)\n",
    "#print(rowVector)\n",
    "#print(columnVector)"
   ]
  },
  {
   "cell_type": "code",
   "execution_count": 3,
   "metadata": {},
   "outputs": [],
   "source": [
    "#Vector arithmetics, same as array arithmetic ops in Numpy notes"
   ]
  },
  {
   "cell_type": "code",
   "execution_count": 4,
   "metadata": {},
   "outputs": [],
   "source": [
    "#Dot product of Vectors in numpy\n",
    "\n",
    "arr1 = np.array([1,2,3,4,5])\n",
    "arr2 = np.array([6,7,8,9,10])\n",
    "\n",
    "dot = np.dot(arr1,arr2) #dot product of these two vectors\n",
    "\n",
    "#print(dot) # =130\n",
    "\n",
    "# dot prod is commutative and distributive\n",
    "# a.b = b.a  ||  a(b+c) = a.b + a.c\n",
    "# etc...\n"
   ]
  },
  {
   "cell_type": "code",
   "execution_count": 5,
   "metadata": {},
   "outputs": [],
   "source": [
    "#Scalar and Vector Projection\n",
    "\n",
    "### MAGNITUDE ###\n",
    "a = np.array([3,4]) \n",
    "magnitude = lng.norm(a)\n",
    "# basic 3-4-5 triangle :)\n",
    "\n",
    "#lng.norm(a)\n",
    "\n",
    "\n",
    "\n",
    "### PROJECTION ###\n",
    "b = np.array([1,2,3,4,5])\n",
    "c = np.array([6,7,8,9,10])\n",
    "\n",
    "vectorProjection_BtoC = (np.dot(b,c)/lng.norm(c))*b\n",
    "#print(vectorProjection_BtoC)\n",
    "\n",
    "\n",
    "\n",
    "\n",
    "\n"
   ]
  },
  {
   "cell_type": "code",
   "execution_count": 6,
   "metadata": {},
   "outputs": [],
   "source": [
    "#Matrix Operations\n",
    "\n",
    "### INVERSE OF MATRIX ###\n",
    "\n",
    "M1 = np.array([[1,2,],[3,4]])\n",
    "#print(M1)\n",
    "\n",
    "#to calculate inverse of matrix\n",
    "M1inv = lng.inv(M1)\n",
    "#print(M1inv)\n",
    "\n",
    "#take an arbitrary vector, multiply with M1inv then multiply the result with M1 itself\n",
    "V = np.array([5,6])\n",
    "\n",
    "result = np.dot(M1inv, V)\n",
    "#print(result)\n",
    "\n",
    "finalV = np.dot(M1, result)\n",
    "#print(finalV)\n",
    "\n",
    "\n",
    "\n",
    "### DETERMINANT ###\n",
    "M2 = np.array([[1,2],[3,4]])\n",
    "detM2 = lng.det(M2)\n",
    "#print(determinant)\n",
    "\n",
    "M3 = np.array([[3,1],[6,2]])    \n",
    "detM3 = lng.det(M3)\n",
    "#print(detM3)                       #it will be '0' since rows are linearly dependent to each other\n",
    "\n"
   ]
  },
  {
   "cell_type": "code",
   "execution_count": 10,
   "metadata": {},
   "outputs": [
    {
     "name": "stdout",
     "output_type": "stream",
     "text": [
      "EigResult(eigenvalues=array([ 3.62093727e+01, -2.20937271e+00, -2.73814581e-15, -5.03980414e-16]), eigenvectors=array([[-0.15115432,  0.72704996, -0.34548549,  0.02015351],\n",
      "       [-0.34923733,  0.28320876,  0.77743657,  0.38110049],\n",
      "       [-0.54732033, -0.16063243, -0.51841668, -0.82266151],\n",
      "       [-0.74540333, -0.60447363,  0.08646559,  0.42140751]]))\n"
     ]
    }
   ],
   "source": [
    "MtoEig = np.array([[1,2,3,4],[5,6,7,8],[9,10,11,12],[13,14,15,16]])\n",
    "\n",
    "eig = lng.eig(MtoEig)\n",
    "print(eig)\n",
    "\n",
    "#  EigResult(eigenvalues=array([ 3.62093727e+01, -2.20937271e+00, -2.73814581e-15, -5.03980414e-16]), \n",
    "#\n",
    "#\n",
    "#  eigenvectors=array([[-0.15115432,  0.72704996, -0.34548549,  0.02015351],\n",
    "#                      [-0.34923733,  0.28320876,  0.77743657,  0.38110049],\n",
    "#                      [-0.54732033, -0.16063243, -0.51841668, -0.82266151],\n",
    "#                      [-0.74540333, -0.60447363,  0.08646559,  0.42140751]]))\n",
    "\n",
    "\n"
   ]
  },
  {
   "cell_type": "code",
   "execution_count": null,
   "metadata": {},
   "outputs": [],
   "source": []
  }
 ],
 "metadata": {
  "kernelspec": {
   "display_name": "Python 3",
   "language": "python",
   "name": "python3"
  },
  "language_info": {
   "codemirror_mode": {
    "name": "ipython",
    "version": 3
   },
   "file_extension": ".py",
   "mimetype": "text/x-python",
   "name": "python",
   "nbconvert_exporter": "python",
   "pygments_lexer": "ipython3",
   "version": "3.10.12"
  },
  "orig_nbformat": 4
 },
 "nbformat": 4,
 "nbformat_minor": 2
}
