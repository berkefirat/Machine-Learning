{
 "cells": [
  {
   "cell_type": "code",
   "execution_count": 28,
   "metadata": {},
   "outputs": [],
   "source": [
    "import numpy as np\n",
    "from numpy import linalg as lng"
   ]
  },
  {
   "cell_type": "code",
   "execution_count": 11,
   "metadata": {},
   "outputs": [],
   "source": [
    "#Representation of vectors\n",
    "\n",
    "vectorAsList = [1,2,3,4,5] #basic list\n",
    "\n",
    "vectorAsArray = np.array([1,2,3,4,5]) #as a numpy array\n",
    "\n",
    "rowVector = np.array([[1,2,3,4,5]])\n",
    "\n",
    "columnVector = np.array([[1],[2],[3],[4],[5]])\n",
    "\n",
    "\n",
    "#print(vectorAsList)\n",
    "#print(vectorAsArray)\n",
    "#print(rowVector)\n",
    "#print(columnVector)"
   ]
  },
  {
   "cell_type": "code",
   "execution_count": 12,
   "metadata": {},
   "outputs": [],
   "source": [
    "#Vector arithmetics, same as array arithmetic ops in Numpy notes"
   ]
  },
  {
   "cell_type": "code",
   "execution_count": 14,
   "metadata": {},
   "outputs": [],
   "source": [
    "#Dot product of Vectors in numpy\n",
    "\n",
    "arr1 = np.array([1,2,3,4,5])\n",
    "arr2 = np.array([6,7,8,9,10])\n",
    "\n",
    "dot = np.dot(arr1,arr2) #dot product of these two vectors\n",
    "\n",
    "#print(dot) # =130\n",
    "\n",
    "# dot prod is commutative and distributive\n",
    "# a.b = b.a  ||  a(b+c) = a.b + a.c\n",
    "# etc...\n"
   ]
  },
  {
   "cell_type": "code",
   "execution_count": 33,
   "metadata": {},
   "outputs": [
    {
     "name": "stdout",
     "output_type": "stream",
     "text": [
      "[ 7.15626447 14.31252895 21.46879342 28.62505789 35.78132237]\n"
     ]
    }
   ],
   "source": [
    "#Scalar and Vector Projection\n",
    "\n",
    "### MAGNITUDE ###\n",
    "a = np.array([3,4]) \n",
    "magnitude = lng.norm(a)\n",
    "# basic 3-4-5 triangle :)\n",
    "\n",
    "#lng.norm(a)\n",
    "\n",
    "\n",
    "\n",
    "### PROJECTION ###\n",
    "b = np.array([1,2,3,4,5])\n",
    "c = np.array([6,7,8,9,10])\n",
    "\n",
    "vectorProjection_BtoC = (np.dot(b,c)/lng.norm(c))*b\n",
    "#print(vectorProjection_BtoC)\n",
    "\n",
    "\n",
    "\n",
    "\n",
    "### CHANGING BASIS ###\n"
   ]
  },
  {
   "cell_type": "code",
   "execution_count": null,
   "metadata": {},
   "outputs": [],
   "source": []
  }
 ],
 "metadata": {
  "kernelspec": {
   "display_name": "Python 3",
   "language": "python",
   "name": "python3"
  },
  "language_info": {
   "codemirror_mode": {
    "name": "ipython",
    "version": 3
   },
   "file_extension": ".py",
   "mimetype": "text/x-python",
   "name": "python",
   "nbconvert_exporter": "python",
   "pygments_lexer": "ipython3",
   "version": "3.10.12"
  },
  "orig_nbformat": 4
 },
 "nbformat": 4,
 "nbformat_minor": 2
}
