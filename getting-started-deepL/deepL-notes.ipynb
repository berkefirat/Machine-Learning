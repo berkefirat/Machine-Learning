{
 "cells": [
  {
   "cell_type": "code",
   "execution_count": 5,
   "metadata": {},
   "outputs": [],
   "source": [
    "# training dataset for fit the parameters\n",
    "# validation set for model selection/tuning\n",
    "# test set to measure the final model performance\n",
    "# usual split for these 3 sets is 80:10:10 of the preprocessed data\n"
   ]
  },
  {
   "cell_type": "code",
   "execution_count": 6,
   "metadata": {},
   "outputs": [],
   "source": [
    "# Layers, activations functions, hyper-parameters are selected by intuition\n",
    "# Adjustments based on results"
   ]
  },
  {
   "cell_type": "code",
   "execution_count": 7,
   "metadata": {},
   "outputs": [],
   "source": [
    "# For initializing weights and biases of the nodes:\n",
    "# All weights and biases must be initialized before training\n",
    "\n",
    "# Zero initialization: initialize zeros all weights, not recommended\n",
    "# Random initialization: initialize random values from a std. normal distribution\n",
    "#                                   mean=0, Std. Deviation=1  ===  between [-1,1]\n"
   ]
  },
  {
   "cell_type": "code",
   "execution_count": 8,
   "metadata": {},
   "outputs": [],
   "source": [
    "# Error detection between output layer and the actual data\n",
    "\n",
    "# Loss func: measures the prediction error for a single sample\n",
    "# Cost func: measures the average of errors in the training data set\n",
    "\n",
    "\n",
    "\n",
    "# Popular Cost Functions:\n",
    "#  Mean Square Error (MSE) = Regression\n",
    "#  Root MSE = Regression\n",
    "#  Binary Cross Entropy = Binary Classification (either that or not)\n",
    "#  Categorical Cross Entropy = Multi-class classification\n"
   ]
  },
  {
   "cell_type": "code",
   "execution_count": 9,
   "metadata": {},
   "outputs": [],
   "source": [
    "# MEASURING ACCURACY\n",
    "\n",
    "##  Back Propagation\n",
    "##      Instead of starting from input layer, it starts from output layer\n",
    "##      Calculates a \"delta\" value for each layer\n",
    "##      Uses the delta value to determine weights and biases for layers and minimize the prediction error rate  \n",
    "\n",
    "\n",
    "##  Gradient Descent\n",
    "##      The learning process is : forward propagation -> estimate error -> back propagation -> adjust weights and biases\n",
    "##      Gradient Descent means to keep repeating this learning process \n",
    "##      Eventually the error cost function will converge to '0'\n",
    "\n",
    "#-------------#\n",
    "\n",
    "##  Batches and Epochs\n",
    "\n",
    "##  BATCH: \n",
    "##  set of samples sent through ANN in 'single' pass\n",
    "##  the training dataset can be divided into one or more batches\n",
    "##  cost estimated and parameters updated one batch at a time\n",
    "##\n",
    "##\n",
    "## When batchSize=trainingSetSize  ->  \"BATCH GRADIENT DESCENT\"\n",
    "## When batchSize<trainingSetSize  ->  \"MINI-BATCH GRADIENT DESCENT\"\n",
    "## Sizes typically 32, 64, 128 etc...\n",
    "\n",
    "##  EPOCHS:\n",
    "##  num. of times the whole training set is sent through\n",
    "##  epoch has one or more batches\n",
    "##  training complete when all epoch is complete\n"
   ]
  },
  {
   "cell_type": "code",
   "execution_count": null,
   "metadata": {},
   "outputs": [],
   "source": [
    "#"
   ]
  }
 ],
 "metadata": {
  "kernelspec": {
   "display_name": "Python 3",
   "language": "python",
   "name": "python3"
  },
  "language_info": {
   "codemirror_mode": {
    "name": "ipython",
    "version": 3
   },
   "file_extension": ".py",
   "mimetype": "text/x-python",
   "name": "python",
   "nbconvert_exporter": "python",
   "pygments_lexer": "ipython3",
   "version": "3.10.12"
  },
  "orig_nbformat": 4
 },
 "nbformat": 4,
 "nbformat_minor": 2
}
